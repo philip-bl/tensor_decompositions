{
 "cells": [
  {
   "cell_type": "code",
   "execution_count": null,
   "metadata": {},
   "outputs": [],
   "source": [
    "import numpy as np\n",
    "import scipy.linalg as la\n",
    "\n",
    "import torch\n",
    "\n",
    "import tensorly as tl\n",
    "from tensorly.decomposition import partial_tucker\n",
    "import tensorly.tenalg as ta"
   ]
  },
  {
   "cell_type": "code",
   "execution_count": null,
   "metadata": {},
   "outputs": [],
   "source": [
    "class TuckerFeatureExtractor(object):\n",
    "    def __init__(self, input_shape, output_shape):\n",
    "        assert len(input_shape) == len(output_shape)\n",
    "        self.input_shape = tuple(input_shape)\n",
    "        self.output_shape = tuple(output_shape)\n",
    "        self.modes_to_compress = [\n",
    "            mode+1 for mode, in_dim, out_dim\n",
    "            # add plus one coz 0 mode will be samples\n",
    "            in zip(\n",
    "                range(len(input_shape)),\n",
    "                input_shape,\n",
    "                output_shape\n",
    "            )\n",
    "            if in_dim != out_dim\n",
    "        ]\n",
    "        self.ranks = [\n",
    "            output_shape[mode-1]\n",
    "            for mode in self.modes_to_compress\n",
    "        ]\n",
    "        self.was_fit = False\n",
    "    \n",
    "    def fit_transform(self, X):\n",
    "        assert tuple(X.shape[1:]) == self.input_shape\n",
    "        core, self.factors = partial_tucker(\n",
    "            X, self.modes_to_compress, self.ranks\n",
    "        )\n",
    "        assert tuple(core.shape[1:]) == self.output_shape\n",
    "        assert core.shape[0] == X.shape[0]\n",
    "        self.factors_inverses = [__class__._pseudoinverse(factor) for factor in self.factors]\n",
    "        self.was_fit = True\n",
    "        return core\n",
    "    \n",
    "    def transform(self, X):\n",
    "        assert tuple(X.shape[1:]) == self.input_shape\n",
    "        return ta.multi_mode_dot(X, self.factors_inverses, self.modes_to_compress)\n",
    "    \n",
    "    def reconstruct(self, core):\n",
    "        assert tuple(core.shape[1:]) == self.output_shape\n",
    "        return ta.multi_mode_dot(core, self.factors, self.modes_to_compress)\n",
    "    \n",
    "    @staticmethod\n",
    "    def _pseudoinverse(matrix):\n",
    "        if isinstance(matrix, np.ndarray):\n",
    "            return la.pinv(matrix)\n",
    "        assert isinstance(matrix, torch.Tensor)\n",
    "        return torch.pinverse(matrix)"
   ]
  },
  {
   "cell_type": "code",
   "execution_count": null,
   "metadata": {},
   "outputs": [],
   "source": [
    "def calc_error(orig, approx):\n",
    "    orig = tl.to_numpy(orig)\n",
    "    approx = tl.to_numpy(approx)\n",
    "    abs_errors = np.abs(orig - approx)\n",
    "    print(f\"Mean absolute error = {abs_errors.mean()}\")\n",
    "    rel_errors = abs_errors / (np.abs(orig) + np.finfo(orig.dtype).eps)\n",
    "    print(f\"Mean relative error = {rel_errors.mean()}\")"
   ]
  }
 ],
 "metadata": {
  "kernelspec": {
   "display_name": "Python 3",
   "language": "python",
   "name": "python3"
  },
  "language_info": {
   "codemirror_mode": {
    "name": "ipython",
    "version": 3
   },
   "file_extension": ".py",
   "mimetype": "text/x-python",
   "name": "python",
   "nbconvert_exporter": "python",
   "pygments_lexer": "ipython3",
   "version": "3.7.2"
  }
 },
 "nbformat": 4,
 "nbformat_minor": 2
}

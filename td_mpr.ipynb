{
 "cells": [
  {
   "cell_type": "code",
   "execution_count": null,
   "metadata": {},
   "outputs": [],
   "source": [
    "import functools\n",
    "import operator\n",
    "\n",
    "import torch\n",
    "import torch.nn as nn"
   ]
  },
  {
   "cell_type": "code",
   "execution_count": null,
   "metadata": {},
   "outputs": [],
   "source": [
    "class MPRLowRankCP(nn.Module):\n",
    "    def __init__(self, num_inputs, num_outputs, polynom_order, rank, bias=True):\n",
    "        assert polynom_order >= 1\n",
    "        assert rank >= 1\n",
    "        super().__init__()\n",
    "        self.polynom_order = polynom_order\n",
    "        self.rank = rank\n",
    "        self.bias = bias\n",
    "        self.num_outputs = num_outputs\n",
    "        self.actual_num_inputs = num_inputs + bias\n",
    "        self.factors = nn.ParameterList(\n",
    "            nn.Parameter(\n",
    "                torch.ones(self.num_outputs, self.actual_num_inputs, self.rank),\n",
    "                requires_grad=True\n",
    "            )\n",
    "            for i in range(self.polynom_order)\n",
    "        )\n",
    "        self.reset_parameters()\n",
    "    \n",
    "    def _actual_num_features(self):\n",
    "        return self.num_features + bias\n",
    "\n",
    "    def reset_parameters(self):\n",
    "        for i in range(len(self.factors)):\n",
    "            self.factors[i].data = torch.randn_like(self.factors[i].data)\n",
    "    \n",
    "    def forward(self, X):\n",
    "        assert len(X.shape) == 2\n",
    "        num_samples = X.shape[0]\n",
    "        if self.bias:\n",
    "            X = torch.cat([X, torch.ones(num_samples, 1)], dim=1)\n",
    "        thingies = [\n",
    "            # n - num of sample, f - num o feature\n",
    "            # r - num of rank one component, o - num of output\n",
    "            torch.einsum(\"nf,ofr->nor\", X, factor)\n",
    "            for factor in self.factors\n",
    "        ]\n",
    "        return functools.reduce(operator.mul, thingies).sum(dim=2)"
   ]
  }
 ],
 "metadata": {
  "kernelspec": {
   "display_name": "Python 3",
   "language": "python",
   "name": "python3"
  },
  "language_info": {
   "codemirror_mode": {
    "name": "ipython",
    "version": 3
   },
   "file_extension": ".py",
   "mimetype": "text/x-python",
   "name": "python",
   "nbconvert_exporter": "python",
   "pygments_lexer": "ipython3",
   "version": "3.6.7"
  }
 },
 "nbformat": 4,
 "nbformat_minor": 2
}

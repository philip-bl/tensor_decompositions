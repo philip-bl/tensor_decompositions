{
 "cells": [
  {
   "cell_type": "code",
   "execution_count": null,
   "metadata": {},
   "outputs": [],
   "source": [
    "import random\n",
    "import functools\n",
    "import itertools\n",
    "import operator\n",
    "import gc\n",
    "\n",
    "with __import__('importnb').Notebook():\n",
    "    # github.com/deathbeds/importnb\n",
    "    import eth80\n",
    "    from eth80 import Eth80Dataset, extract_X_y_train_test\n",
    "    from feature_extraction import TuckerFeatureExtractor\n",
    "    from ml_utils import (\n",
    "        do_every_num_epochs, memreport, train_and_evaluate\n",
    "    )\n",
    "    \n",
    "import matplotlib.pyplot as plt\n",
    "%matplotlib inline\n",
    "\n",
    "import tensorly as tl\n",
    "\n",
    "import torch\n",
    "import torch.nn as nn\n",
    "import torch.nn.functional as tnnf\n"
   ]
  },
  {
   "cell_type": "code",
   "execution_count": null,
   "metadata": {},
   "outputs": [],
   "source": [
    "tl.set_backend(\"pytorch\")\n",
    "device = torch.device(\"cuda:0\")\n",
    "torch.set_default_tensor_type(torch.cuda.FloatTensor)"
   ]
  },
  {
   "cell_type": "code",
   "execution_count": null,
   "metadata": {},
   "outputs": [],
   "source": [
    "eth80_dataset = Eth80Dataset(\n",
    "    \"/mnt/hdd_1tb/smiles_backup/Documents/datasets/eth80/eth80-cropped-close128/\"\n",
    ")"
   ]
  },
  {
   "cell_type": "code",
   "execution_count": null,
   "metadata": {},
   "outputs": [],
   "source": [
    "def make_logistic_regression(\n",
    "    num_extracted_features, learning_rate, regularization_coefficient\n",
    "):\n",
    "    model = nn.Linear(num_extracted_features, eth80.NUM_CLASSES, bias=True)\n",
    "    optimizer = torch.optim.SGD(\n",
    "        model.parameters(), lr=learning_rate, weight_decay=regularization_coefficient\n",
    "    )\n",
    "    return model, optimizer"
   ]
  },
  {
   "cell_type": "code",
   "execution_count": null,
   "metadata": {},
   "outputs": [],
   "source": [
    "def evaluate_logistic_regression():\n",
    "    extracted_features_shape = (14, 3, 23, 2)\n",
    "    X_train, y_train, X_test, y_test = extract_X_y_train_test(\n",
    "        eth80_dataset, num_test_objects_per_class=2,\n",
    "        extracted_features_shape=extracted_features_shape\n",
    "    )\n",
    "    model, optimizer = make_logistic_regression(\n",
    "        functools.reduce(operator.mul, extracted_features_shape),\n",
    "        learning_rate=1e-3,\n",
    "        regularization_coefficient=0.01933\n",
    "    )\n",
    "    train_and_evaluate(\n",
    "        X_train, y_train, X_test, y_test,\n",
    "        model, optimizer,\n",
    "        eval_every_num_epochs=3, plot_every_num_epochs=60,\n",
    "        num_epochs=301\n",
    "    )"
   ]
  },
  {
   "cell_type": "code",
   "execution_count": null,
   "metadata": {},
   "outputs": [],
   "source": [
    "evaluate_logistic_regression()"
   ]
  },
  {
   "cell_type": "code",
   "execution_count": null,
   "metadata": {},
   "outputs": [],
   "source": []
  },
  {
   "cell_type": "code",
   "execution_count": null,
   "metadata": {},
   "outputs": [],
   "source": []
  },
  {
   "cell_type": "code",
   "execution_count": null,
   "metadata": {},
   "outputs": [],
   "source": []
  },
  {
   "cell_type": "code",
   "execution_count": null,
   "metadata": {},
   "outputs": [],
   "source": []
  },
  {
   "cell_type": "code",
   "execution_count": null,
   "metadata": {},
   "outputs": [],
   "source": []
  },
  {
   "cell_type": "code",
   "execution_count": null,
   "metadata": {},
   "outputs": [],
   "source": []
  }
 ],
 "metadata": {
  "kernelspec": {
   "display_name": "Python 3",
   "language": "python",
   "name": "python3"
  },
  "language_info": {
   "codemirror_mode": {
    "name": "ipython",
    "version": 3
   },
   "file_extension": ".py",
   "mimetype": "text/x-python",
   "name": "python",
   "nbconvert_exporter": "python",
   "pygments_lexer": "ipython3",
   "version": "3.6.7"
  }
 },
 "nbformat": 4,
 "nbformat_minor": 2
}

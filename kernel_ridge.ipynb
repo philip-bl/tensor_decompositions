{
 "cells": [
  {
   "cell_type": "code",
   "execution_count": null,
   "metadata": {},
   "outputs": [],
   "source": [
    "from functools import partial\n",
    "\n",
    "from sklearn.kernel_ridge import KernelRidge\n",
    "from sklearn.metrics.pairwise import polynomial_kernel\n",
    "from mlxtend.plotting import plot_decision_regions\n",
    "from sklearn.datasets import make_moons\n",
    "\n",
    "import matplotlib.pyplot as plt"
   ]
  },
  {
   "cell_type": "code",
   "execution_count": null,
   "metadata": {},
   "outputs": [],
   "source": [
    "X, y = make_moons(n_samples=500, noise=0.2, random_state=404)"
   ]
  },
  {
   "cell_type": "code",
   "execution_count": null,
   "metadata": {},
   "outputs": [],
   "source": [
    "fig, ax = plt.subplots()\n",
    "X_label_1 = X[y.astype(bool)]\n",
    "X_label_0 = X[np.logical_not(y)]\n",
    "ax.scatter(X_label_1[:, 0], X_label_1[:, 1], color=\"red\")\n",
    "ax.scatter(X_label_0[:, 0], X_label_0[:, 1], color=\"blue\")"
   ]
  },
  {
   "cell_type": "code",
   "execution_count": null,
   "metadata": {},
   "outputs": [],
   "source": [
    "regularization_strength = 1.0\n",
    "classifier = KernelRidge(\n",
    "    kernel=\"polynomial\",\n",
    "    alpha=regularization_strength,\n",
    "    degree=3\n",
    ")\n",
    "classifier.fit(X, y)\n",
    "plot_decision_regions(X, y, classifier, legend=1)"
   ]
  }
 ],
 "metadata": {
  "kernelspec": {
   "display_name": "Python 3",
   "language": "python",
   "name": "python3"
  },
  "language_info": {
   "codemirror_mode": {
    "name": "ipython",
    "version": 3
   },
   "file_extension": ".py",
   "mimetype": "text/x-python",
   "name": "python",
   "nbconvert_exporter": "python",
   "pygments_lexer": "ipython3",
   "version": "3.6.7"
  }
 },
 "nbformat": 4,
 "nbformat_minor": 2
}

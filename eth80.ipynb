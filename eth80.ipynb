{
 "cells": [
  {
   "cell_type": "code",
   "execution_count": null,
   "metadata": {},
   "outputs": [],
   "source": [
    "from libcrap import traverse_files\n",
    "\n",
    "import numpy as np\n",
    "import re\n",
    "import matplotlib.pyplot as plt\n",
    "import random\n",
    "\n",
    "from sklearn.preprocessing import LabelEncoder"
   ]
  },
  {
   "cell_type": "code",
   "execution_count": null,
   "metadata": {},
   "outputs": [],
   "source": [
    "class DictWithCounter(dict):\n",
    "    \"\"\"\n",
    "    >>> d = DictWithCounter()\n",
    "    >>> print(d.get_maybe_add(\"aaa\"))\n",
    "    0\n",
    "    >>> print(d.get_maybe_add(\"bbb\"))\n",
    "    1\n",
    "    >>> print(d.get_maybe_add(\"aaa\"))\n",
    "    0\n",
    "    >>> print(sorted(d.items()))\n",
    "    [('aaa', 0), ('bbb', 1)]\n",
    "    \"\"\"\n",
    "    def __init__(self):\n",
    "        super(DictWithCounter, self).__init__()\n",
    "        self._next_value = 0\n",
    "    \n",
    "    def get_maybe_add(self, item):\n",
    "        if item not in self:\n",
    "            self[item] = self._next_value\n",
    "            self._next_value += 1\n",
    "        return self[item]"
   ]
  },
  {
   "cell_type": "code",
   "execution_count": null,
   "metadata": {},
   "outputs": [],
   "source": [
    "NUM_CLASSES = 8\n",
    "NUM_OBJECTS_PER_CLASS = 10\n",
    "NUM_OBJECTS = 8*10\n",
    "NUM_ANGLES = 41\n",
    "IMAGE_HEIGHT = 128\n",
    "IMAGE_WIDTH = 128\n",
    "IMAGE_CHANNELS = 3"
   ]
  },
  {
   "cell_type": "code",
   "execution_count": null,
   "metadata": {},
   "outputs": [],
   "source": [
    "if __name__ == \"__main__\":\n",
    "    import doctest\n",
    "    doctest.run_docstring_examples(DictWithCounter, globals())\n",
    "    print(\"ran a test\")"
   ]
  },
  {
   "cell_type": "code",
   "execution_count": null,
   "metadata": {},
   "outputs": [],
   "source": [
    "def load_eth80(path, use_torch):\n",
    "    all_filenames = list(traverse_files(path))\n",
    "    dataset = np.zeros(\n",
    "        (NUM_OBJECTS, NUM_ANGLES, IMAGE_CHANNELS, IMAGE_HEIGHT, IMAGE_WIDTH),\n",
    "        dtype=np.float32, order=\"C\"\n",
    "    )\n",
    "    object_classes = [None] * NUM_OBJECTS\n",
    "    object_id_to_index = DictWithCounter()\n",
    "    angles_to_index = DictWithCounter()\n",
    "    loaded_num = 0\n",
    "    for path in all_filenames:\n",
    "        match = re.search(r\"([a-z]+)(\\d\\d?)-(\\d\\d\\d-\\d\\d\\d).png\", path)\n",
    "        if match:\n",
    "            object_id = match.group(1) + match.group(2)    \n",
    "            angles = match.group(3)\n",
    "\n",
    "            object_index = object_id_to_index.get_maybe_add(object_id)\n",
    "            angles_index = angles_to_index.get_maybe_add(angles)\n",
    "            object_classes[object_index] = match.group(1)\n",
    "\n",
    "            image = plt.imread(path)\n",
    "            dataset[object_index, angles_index] = np.moveaxis(image, 2, 0)\n",
    "            loaded_num += 1\n",
    "    if loaded_num != NUM_OBJECTS * NUM_ANGLES:\n",
    "        raise ValueError(\n",
    "            f\"Loaded {loaded_num} objects, but should've loaded {NUM_OBJECTS * NUM_ANGLES}\"\n",
    "        )\n",
    "\n",
    "    label_encoder = LabelEncoder()\n",
    "    labels = label_encoder.fit_transform(object_classes)\n",
    "    \n",
    "    if use_torch:\n",
    "        import torch\n",
    "        dataset = torch.tensor(dataset)\n",
    "        labels = torch.tensor(labels)\n",
    "    \n",
    "    return dataset, labels, label_encoder, object_classes"
   ]
  },
  {
   "cell_type": "code",
   "execution_count": null,
   "metadata": {},
   "outputs": [],
   "source": [
    "def fix_img_axes_for_show(image):\n",
    "    return np.moveaxis(image, 0, 2)"
   ]
  },
  {
   "cell_type": "code",
   "execution_count": null,
   "metadata": {},
   "outputs": [],
   "source": [
    "def choose_random_image():\n",
    "    return random.randint(0, NUM_OBJECTS-1), random.randint(0, NUM_ANGLES-1)"
   ]
  },
  {
   "cell_type": "code",
   "execution_count": null,
   "metadata": {},
   "outputs": [],
   "source": [
    "def show_image(dataset, obj_id, angle_id, ax=None):\n",
    "    if ax is None:\n",
    "        _, ax = plt.subplots()\n",
    "    ax.imshow(fix_img_axes_for_show(dataset[obj_id, angle_id]))"
   ]
  },
  {
   "cell_type": "code",
   "execution_count": null,
   "metadata": {},
   "outputs": [],
   "source": [
    "def stratified_split_torch(dataset, labels, num_test_per_class):\n",
    "    assert 1 <= num_test_per_class < NUM_OBJECTS_PER_CLASS\n",
    "    import torch\n",
    "    obj_indices_sorted_by_class = torch.argsort(labels)\n",
    "    test_objects = set()\n",
    "    for label in range(NUM_CLASSES):\n",
    "        obj_indices_in_class = random.choices(\n",
    "            range(NUM_OBJECTS_PER_CLASS), k=num_test_per_class\n",
    "        )\n",
    "        new_test_objects = obj_indices_sorted_by_class[[\n",
    "            label*10 + ind_in_class for ind_in_class in obj_indices_in_class\n",
    "        ]]\n",
    "        test_objects.update(x.item() for x in new_test_objects)\n",
    "    train_objects = sorted(frozenset(range(NUM_OBJECTS)) - test_objects)\n",
    "    test_objects = sorted(test_objects)\n",
    "    X_train = dataset[train_objects]\n",
    "    y_train = labels[train_objects]\n",
    "    X_test = dataset[test_objects]\n",
    "    y_test = labels[test_objects]\n",
    "    return X_train, y_train, X_test, y_test"
   ]
  }
 ],
 "metadata": {
  "kernelspec": {
   "display_name": "Python 3",
   "language": "python",
   "name": "python3"
  },
  "language_info": {
   "codemirror_mode": {
    "name": "ipython",
    "version": 3
   },
   "file_extension": ".py",
   "mimetype": "text/x-python",
   "name": "python",
   "nbconvert_exporter": "python",
   "pygments_lexer": "ipython3",
   "version": "3.7.2"
  }
 },
 "nbformat": 4,
 "nbformat_minor": 2
}

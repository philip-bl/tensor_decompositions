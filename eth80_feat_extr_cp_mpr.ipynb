{
 "cells": [
  {
   "cell_type": "code",
   "execution_count": null,
   "metadata": {},
   "outputs": [],
   "source": [
    "import random\n",
    "import functools\n",
    "import itertools\n",
    "import operator\n",
    "import gc\n",
    "\n",
    "with __import__('importnb').Notebook():\n",
    "    # github.com/deathbeds/importnb\n",
    "    import eth80\n",
    "    from eth80 import Eth80Dataset, extract_X_y_train_test\n",
    "    from feature_extraction import TuckerFeatureExtractor\n",
    "    from ml_utils import (\n",
    "        do_every_num_epochs, memreport, train_and_evaluate\n",
    "    )\n",
    "    from td_mpr import MPRLowRankCP\n",
    "    \n",
    "import matplotlib.pyplot as plt\n",
    "%matplotlib inline\n",
    "\n",
    "import tensorly as tl\n",
    "\n",
    "import torch\n",
    "import torch.nn as nn\n",
    "import torch.nn.functional as tnnf\n"
   ]
  },
  {
   "cell_type": "code",
   "execution_count": null,
   "metadata": {},
   "outputs": [],
   "source": [
    "tl.set_backend(\"pytorch\")\n",
    "device = torch.device(\"cuda:0\")\n",
    "torch.set_default_tensor_type(torch.cuda.FloatTensor)"
   ]
  },
  {
   "cell_type": "code",
   "execution_count": null,
   "metadata": {},
   "outputs": [],
   "source": [
    "eth80_dataset = Eth80Dataset(\n",
    "    \"/mnt/hdd_1tb/smiles_backup/Documents/datasets/eth80/eth80-cropped-close128/\"\n",
    ")"
   ]
  },
  {
   "cell_type": "code",
   "execution_count": null,
   "metadata": {},
   "outputs": [],
   "source": [
    "def generate_configuration():\n",
    "    return {\n",
    "        \"extracted_features_shape\": (\n",
    "            random.randint(1, eth80.NUM_ANGLES // 2), # angles mode\n",
    "            random.randint(1, 3), # channels mode\n",
    "            random.randint(1, eth80.IMAGE_HEIGHT // 4),\n",
    "            random.randint(1, eth80.IMAGE_WIDTH // 4)\n",
    "        ),\n",
    "        \"learning_rate\": 10**random.randint(-13, -1),\n",
    "        \"regularization_coefficient\": 10**random.randint(-8, 8),\n",
    "        \"polynom_order\": random.randint(2, 3),\n",
    "        \"weights_rank\": random.randint(1, 100)\n",
    "    }"
   ]
  },
  {
   "cell_type": "markdown",
   "metadata": {},
   "source": [
    "It seems the best suitable learning rates decrease as polynom order increases. For polynom order 3 they are around 1e-9, 1e-10. Anything greater than 1e-9 produces NaNs. Anything smaller is too slow.\n",
    "\n",
    "Some good hyperparameters are listed below\n",
    "\n",
    "extracted features dimensions [18, 3, 29, 10], lr 1.000000e-09, polynomial order 3, regularization coefficient 1.000000e-03, weights_rank 80"
   ]
  },
  {
   "cell_type": "raw",
   "metadata": {},
   "source": [
    "configuration = {\n",
    "    'extracted_features_shape': [18, 3, 29, 10],\n",
    "    'regularization_coefficient': 1e-2,\n",
    "    \"learning_rate\": 1e-8,\n",
    "    'polynom_order': 2,\n",
    "    'weights_rank': 80\n",
    "}\n",
    "configuration = {\n",
    "    'extracted_features_shape': [18, 3, 29, 10],\n",
    "    'regularization_coefficient': 1e-8,\n",
    "    \"learning_rate\": 1e-12,\n",
    "    'polynom_order': 4,\n",
    "    'weights_rank': 30\n",
    "}"
   ]
  },
  {
   "cell_type": "raw",
   "metadata": {},
   "source": [
    "configuration = {\n",
    "    'extracted_features_shape': [18, 3, 29, 10],\n",
    "    'regularization_coefficient': 1e-3,\n",
    "    \"learning_rate\": 1e-9,\n",
    "    'polynom_order': 3,\n",
    "    'weights_rank': 80\n",
    "}\n",
    "# test accuracies:\n",
    "torch.tensor([\n",
    "    0.73,\n",
    "    0.8125,\n",
    "    0.6,\n",
    "    1.0,\n",
    "    0.73,\n",
    "    0.6,\n",
    "    0.857,\n",
    "    0.928,\n",
    "    0.75\n",
    "])\n",
    "# mean: 0.7786\n",
    "# std: 0.136"
   ]
  },
  {
   "cell_type": "raw",
   "metadata": {},
   "source": [
    "configuration = {\n",
    "    'extracted_features_shape': [18, 3, 29, 10],\n",
    "    'regularization_coefficient': 1e-3,\n",
    "    \"learning_rate\": 1e-9,\n",
    "    'polynom_order': 3,\n",
    "    'weights_rank': 160\n",
    "}\n",
    "foo = torch.tensor([\n",
    "    train_test(configuration, num_epochs=501, plot_every_num_epochs=200)\n",
    "    for i in range(25)\n",
    "])\n",
    "print(foo.mean()) #0.8261\n",
    "print(foo.std()) #0.0927"
   ]
  },
  {
   "cell_type": "raw",
   "metadata": {},
   "source": [
    "configuration = {\n",
    "    'extracted_features_shape': [18, 3, 29, 10],\n",
    "    'regularization_coefficient': 1e-3,\n",
    "    \"learning_rate\": 1e-9,\n",
    "    'polynom_order': 3,\n",
    "    'weights_rank': 500\n",
    "}\n",
    "foo = torch.tensor([\n",
    "    train_test(configuration, num_epochs=501, plot_every_num_epochs=200)\n",
    "    for i in range(10)\n",
    "])\n",
    "print(foo.mean()) # tensor(0.8833)\n",
    "print(foo.std()) #tensor(0.0616)"
   ]
  },
  {
   "cell_type": "raw",
   "metadata": {},
   "source": [
    "configuration = {\n",
    "    'extracted_features_shape': [18, 3, 23, 18],\n",
    "    'regularization_coefficient': 1e-1,\n",
    "    \"learning_rate\": 1e-6,\n",
    "    'polynom_order': 2,\n",
    "    'weights_rank': 10\n",
    "}\n",
    "foo = torch.tensor([\n",
    "    train_test(configuration, num_epochs=1001, plot_every_num_epochs=200)\n",
    "    for i in range(1)\n",
    "])\n",
    "print(foo.mean())\n",
    "print(foo.std())"
   ]
  },
  {
   "cell_type": "code",
   "execution_count": null,
   "metadata": {},
   "outputs": [],
   "source": [
    "def make_CP_MPR(\n",
    "    num_extracted_features, polynom_order, weights_rank,\n",
    "    optimizer_creator, learning_rate, regularization_coefficient,\n",
    "    betas=None\n",
    "):\n",
    "    model = MPRLowRankCP(\n",
    "        num_extracted_features, eth80.NUM_CLASSES,\n",
    "        polynom_order=polynom_order,\n",
    "        rank=weights_rank,\n",
    "        bias=True\n",
    "    )\n",
    "    \n",
    "    optimizer_additional_parameters = {}\n",
    "    if betas is not None:\n",
    "        optimizer_additional_parameters[\"betas\"] = betas\n",
    "    \n",
    "    optimizer = optimizer_creator(\n",
    "        model.parameters(), lr=learning_rate,\n",
    "        weight_decay=regularization_coefficient,\n",
    "        **optimizer_additional_parameters\n",
    "    )\n",
    "    return model, optimizer"
   ]
  },
  {
   "cell_type": "code",
   "execution_count": null,
   "metadata": {},
   "outputs": [],
   "source": [
    "def evaluate_CP_MPR():\n",
    "    extracted_features_shape = [18, 3, 29, 10]\n",
    "    polynom_order = 3\n",
    "    weights_rank = 500\n",
    "    X_train, y_train, X_test, y_test = extract_X_y_train_test(\n",
    "        eth80_dataset, num_test_objects_per_class=2,\n",
    "        extracted_features_shape=extracted_features_shape\n",
    "    )\n",
    "    model, optimizer = make_CP_MPR(\n",
    "        functools.reduce(operator.mul, extracted_features_shape),\n",
    "        polynom_order,\n",
    "        weights_rank,\n",
    "        torch.optim.SGD, learning_rate=1e-9,\n",
    "        regularization_coefficient=1e-3\n",
    "    )\n",
    "    train_and_evaluate(\n",
    "        X_train, y_train, X_test, y_test,\n",
    "        model, optimizer,\n",
    "        eval_every_num_epochs=3, plot_every_num_epochs=60,\n",
    "        num_epochs=130\n",
    "    )"
   ]
  },
  {
   "cell_type": "code",
   "execution_count": null,
   "metadata": {},
   "outputs": [],
   "source": [
    "evaluate_CP_MPR()"
   ]
  },
  {
   "cell_type": "code",
   "execution_count": null,
   "metadata": {},
   "outputs": [],
   "source": []
  },
  {
   "cell_type": "code",
   "execution_count": null,
   "metadata": {},
   "outputs": [],
   "source": []
  },
  {
   "cell_type": "code",
   "execution_count": null,
   "metadata": {},
   "outputs": [],
   "source": []
  },
  {
   "cell_type": "code",
   "execution_count": null,
   "metadata": {},
   "outputs": [],
   "source": []
  },
  {
   "cell_type": "code",
   "execution_count": null,
   "metadata": {},
   "outputs": [],
   "source": []
  },
  {
   "cell_type": "code",
   "execution_count": null,
   "metadata": {},
   "outputs": [],
   "source": []
  }
 ],
 "metadata": {
  "kernelspec": {
   "display_name": "Python 3",
   "language": "python",
   "name": "python3"
  },
  "language_info": {
   "codemirror_mode": {
    "name": "ipython",
    "version": 3
   },
   "file_extension": ".py",
   "mimetype": "text/x-python",
   "name": "python",
   "nbconvert_exporter": "python",
   "pygments_lexer": "ipython3",
   "version": "3.6.7"
  }
 },
 "nbformat": 4,
 "nbformat_minor": 2
}
